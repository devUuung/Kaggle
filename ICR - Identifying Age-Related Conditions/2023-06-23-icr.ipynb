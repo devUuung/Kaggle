{
 "cells": [
  {
   "cell_type": "markdown",
   "id": "66019a70",
   "metadata": {
    "papermill": {
     "duration": 0.010669,
     "end_time": "2023-06-29T15:02:49.020470",
     "exception": false,
     "start_time": "2023-06-29T15:02:49.009801",
     "status": "completed"
    },
    "tags": []
   },
   "source": [
    "## 1.1 Library Setup"
   ]
  },
  {
   "cell_type": "code",
   "execution_count": 1,
   "id": "188c0f98",
   "metadata": {
    "_cell_guid": "b1076dfc-b9ad-4769-8c92-a6c4dae69d19",
    "_uuid": "8f2839f25d086af736a60e9eeb907d3b93b6e0e5",
    "execution": {
     "iopub.execute_input": "2023-06-29T15:02:49.041700Z",
     "iopub.status.busy": "2023-06-29T15:02:49.041362Z",
     "iopub.status.idle": "2023-06-29T15:02:51.424481Z",
     "shell.execute_reply": "2023-06-29T15:02:51.423548Z"
    },
    "papermill": {
     "duration": 2.396311,
     "end_time": "2023-06-29T15:02:51.426841",
     "exception": false,
     "start_time": "2023-06-29T15:02:49.030530",
     "status": "completed"
    },
    "tags": []
   },
   "outputs": [],
   "source": [
    "import pandas as pd\n",
    "import numpy as np\n",
    "import matplotlib.pyplot as plt\n",
    "from matplotlib.ticker import FuncFormatter\n",
    "%matplotlib inline\n",
    "import seaborn as sns\n",
    "from xgboost import XGBClassifier\n",
    "\n",
    "import warnings\n",
    "warnings.filterwarnings('ignore')\n",
    "\n",
    "from sklearn.model_selection import train_test_split, RandomizedSearchCV, StratifiedKFold\n",
    "from sklearn import metrics\n",
    "\n",
    "from sklearn.impute import KNNImputer\n",
    "\n",
    "# Feature Selection\n",
    "from sklearn.feature_selection import SelectKBest, f_classif\n",
    "\n",
    "# Data Encoder and Scaler\n",
    "import category_encoders as encoders\n",
    "from sklearn.preprocessing import LabelEncoder, RobustScaler\n",
    "\n",
    "from imblearn.over_sampling import SMOTE"
   ]
  },
  {
   "cell_type": "markdown",
   "id": "805d8fe3",
   "metadata": {
    "papermill": {
     "duration": 0.00973,
     "end_time": "2023-06-29T15:02:51.446983",
     "exception": false,
     "start_time": "2023-06-29T15:02:51.437253",
     "status": "completed"
    },
    "tags": []
   },
   "source": [
    "## 1.2 Load Data"
   ]
  },
  {
   "cell_type": "code",
   "execution_count": 2,
   "id": "1a6d35b3",
   "metadata": {
    "execution": {
     "iopub.execute_input": "2023-06-29T15:02:51.468624Z",
     "iopub.status.busy": "2023-06-29T15:02:51.467775Z",
     "iopub.status.idle": "2023-06-29T15:02:51.512718Z",
     "shell.execute_reply": "2023-06-29T15:02:51.511247Z"
    },
    "papermill": {
     "duration": 0.057874,
     "end_time": "2023-06-29T15:02:51.514894",
     "exception": false,
     "start_time": "2023-06-29T15:02:51.457020",
     "status": "completed"
    },
    "tags": []
   },
   "outputs": [
    {
     "name": "stdout",
     "output_type": "stream",
     "text": [
      "No. of records for train : (617, 58)\n",
      "No. of records for test : (5, 57)\n",
      "No. of records for greeks : (617, 6)\n"
     ]
    }
   ],
   "source": [
    "df_train = pd.read_csv(\"/kaggle/input/icr-identify-age-related-conditions/train.csv\")\n",
    "df_test = pd.read_csv(\"/kaggle/input/icr-identify-age-related-conditions/test.csv\")\n",
    "df_greeks = pd.read_csv(\"/kaggle/input/icr-identify-age-related-conditions/greeks.csv\")\n",
    "\n",
    "print(f'No. of records for train : {df_train.shape}')\n",
    "print(f'No. of records for test : {df_test.shape}')\n",
    "print(f'No. of records for greeks : {df_greeks.shape}')"
   ]
  },
  {
   "cell_type": "code",
   "execution_count": 3,
   "id": "8069de7c",
   "metadata": {
    "execution": {
     "iopub.execute_input": "2023-06-29T15:02:51.538077Z",
     "iopub.status.busy": "2023-06-29T15:02:51.536476Z",
     "iopub.status.idle": "2023-06-29T15:02:51.561448Z",
     "shell.execute_reply": "2023-06-29T15:02:51.559524Z"
    },
    "papermill": {
     "duration": 0.038366,
     "end_time": "2023-06-29T15:02:51.563437",
     "exception": false,
     "start_time": "2023-06-29T15:02:51.525071",
     "status": "completed"
    },
    "tags": []
   },
   "outputs": [
    {
     "name": "stdout",
     "output_type": "stream",
     "text": [
      "<class 'pandas.core.frame.DataFrame'>\n",
      "RangeIndex: 617 entries, 0 to 616\n",
      "Data columns (total 58 columns):\n",
      " #   Column  Non-Null Count  Dtype  \n",
      "---  ------  --------------  -----  \n",
      " 0   Id      617 non-null    object \n",
      " 1   AB      617 non-null    float64\n",
      " 2   AF      617 non-null    float64\n",
      " 3   AH      617 non-null    float64\n",
      " 4   AM      617 non-null    float64\n",
      " 5   AR      617 non-null    float64\n",
      " 6   AX      617 non-null    float64\n",
      " 7   AY      617 non-null    float64\n",
      " 8   AZ      617 non-null    float64\n",
      " 9   BC      617 non-null    float64\n",
      " 10  BD      617 non-null    float64\n",
      " 11  BN      617 non-null    float64\n",
      " 12  BP      617 non-null    float64\n",
      " 13  BQ      557 non-null    float64\n",
      " 14  BR      617 non-null    float64\n",
      " 15  BZ      617 non-null    float64\n",
      " 16  CB      615 non-null    float64\n",
      " 17  CC      614 non-null    float64\n",
      " 18  CD      617 non-null    float64\n",
      " 19  CF      617 non-null    float64\n",
      " 20  CH      617 non-null    float64\n",
      " 21  CL      617 non-null    float64\n",
      " 22  CR      617 non-null    float64\n",
      " 23  CS      617 non-null    float64\n",
      " 24  CU      617 non-null    float64\n",
      " 25  CW      617 non-null    float64\n",
      " 26  DA      617 non-null    float64\n",
      " 27  DE      617 non-null    float64\n",
      " 28  DF      617 non-null    float64\n",
      " 29  DH      617 non-null    float64\n",
      " 30  DI      617 non-null    float64\n",
      " 31  DL      617 non-null    float64\n",
      " 32  DN      617 non-null    float64\n",
      " 33  DU      616 non-null    float64\n",
      " 34  DV      617 non-null    float64\n",
      " 35  DY      617 non-null    float64\n",
      " 36  EB      617 non-null    float64\n",
      " 37  EE      617 non-null    float64\n",
      " 38  EG      617 non-null    float64\n",
      " 39  EH      617 non-null    float64\n",
      " 40  EJ      617 non-null    object \n",
      " 41  EL      557 non-null    float64\n",
      " 42  EP      617 non-null    float64\n",
      " 43  EU      617 non-null    float64\n",
      " 44  FC      616 non-null    float64\n",
      " 45  FD      617 non-null    float64\n",
      " 46  FE      617 non-null    float64\n",
      " 47  FI      617 non-null    float64\n",
      " 48  FL      616 non-null    float64\n",
      " 49  FR      617 non-null    float64\n",
      " 50  FS      615 non-null    float64\n",
      " 51  GB      617 non-null    float64\n",
      " 52  GE      617 non-null    float64\n",
      " 53  GF      617 non-null    float64\n",
      " 54  GH      617 non-null    float64\n",
      " 55  GI      617 non-null    float64\n",
      " 56  GL      616 non-null    float64\n",
      " 57  Class   617 non-null    int64  \n",
      "dtypes: float64(55), int64(1), object(2)\n",
      "memory usage: 279.7+ KB\n"
     ]
    }
   ],
   "source": [
    "df_train.info()"
   ]
  },
  {
   "cell_type": "markdown",
   "id": "3e07d048",
   "metadata": {
    "papermill": {
     "duration": 0.010091,
     "end_time": "2023-06-29T15:02:51.583878",
     "exception": false,
     "start_time": "2023-06-29T15:02:51.573787",
     "status": "completed"
    },
    "tags": []
   },
   "source": [
    "## 2. EDA"
   ]
  },
  {
   "cell_type": "markdown",
   "id": "c4b052ef",
   "metadata": {
    "papermill": {
     "duration": 0.010072,
     "end_time": "2023-06-29T15:02:51.603838",
     "exception": false,
     "start_time": "2023-06-29T15:02:51.593766",
     "status": "completed"
    },
    "tags": []
   },
   "source": [
    "## 2.1 Distribution of Target Label"
   ]
  },
  {
   "cell_type": "code",
   "execution_count": 4,
   "id": "09323c69",
   "metadata": {
    "execution": {
     "iopub.execute_input": "2023-06-29T15:02:51.625756Z",
     "iopub.status.busy": "2023-06-29T15:02:51.624942Z",
     "iopub.status.idle": "2023-06-29T15:02:51.633060Z",
     "shell.execute_reply": "2023-06-29T15:02:51.632126Z"
    },
    "papermill": {
     "duration": 0.021434,
     "end_time": "2023-06-29T15:02:51.635174",
     "exception": false,
     "start_time": "2023-06-29T15:02:51.613740",
     "status": "completed"
    },
    "tags": []
   },
   "outputs": [
    {
     "data": {
      "text/plain": [
       "0    509\n",
       "1    108\n",
       "Name: Class, dtype: int64"
      ]
     },
     "execution_count": 4,
     "metadata": {},
     "output_type": "execute_result"
    }
   ],
   "source": [
    "df_train[\"Class\"].value_counts()"
   ]
  },
  {
   "cell_type": "code",
   "execution_count": 5,
   "id": "f9d405aa",
   "metadata": {
    "execution": {
     "iopub.execute_input": "2023-06-29T15:02:51.657255Z",
     "iopub.status.busy": "2023-06-29T15:02:51.656551Z",
     "iopub.status.idle": "2023-06-29T15:02:51.808208Z",
     "shell.execute_reply": "2023-06-29T15:02:51.806968Z"
    },
    "papermill": {
     "duration": 0.166186,
     "end_time": "2023-06-29T15:02:51.811467",
     "exception": false,
     "start_time": "2023-06-29T15:02:51.645281",
     "status": "completed"
    },
    "tags": []
   },
   "outputs": [
    {
     "data": {
      "text/plain": [
       "([<matplotlib.patches.Wedge at 0x7a843c1df1f0>,\n",
       "  <matplotlib.patches.Wedge at 0x7a843c1df100>],\n",
       " [Text(-0.9378309675672217, 0.5748678772308721, '0'),\n",
       "  Text(0.9378309137442025, -0.5748679650369418, '1')],\n",
       " [Text(-0.5115441641275754, 0.3135642966713847, '509\\n(82.50%)'),\n",
       "  Text(0.511544134769565, -0.31356434456560456, '108\\n(17.50%)')])"
      ]
     },
     "execution_count": 5,
     "metadata": {},
     "output_type": "execute_result"
    },
    {
     "data": {
      "image/png": "[encoded data removed]",
      "text/plain": [
       "<Figure size 500x500 with 1 Axes>"
      ]
     },
     "metadata": {},
     "output_type": "display_data"
    }
   ],
   "source": [
    "plt.figure(figsize=(5,5))\n",
    "\n",
    "def auto_fmt(pct_value):\n",
    "    return f\"{(df_train['Class'].value_counts().sum() * pct_value / 100):.0f}\\n({pct_value:.2f}%)\"\n",
    "\n",
    "fig = plt.gcf()\n",
    "plt.pie(x=df_train['Class'].value_counts(), labels=[\"0\", \"1\"], autopct=auto_fmt, textprops={'fontsize': 12})"
   ]
  },
  {
   "cell_type": "markdown",
   "id": "c0f4ee86",
   "metadata": {
    "papermill": {
     "duration": 0.022628,
     "end_time": "2023-06-29T15:02:51.856821",
     "exception": false,
     "start_time": "2023-06-29T15:02:51.834193",
     "status": "completed"
    },
    "tags": []
   },
   "source": [
    "## 2.2 Missing Value Analysis"
   ]
  },
  {
   "cell_type": "code",
   "execution_count": 6,
   "id": "8d2c0e6b",
   "metadata": {
    "execution": {
     "iopub.execute_input": "2023-06-29T15:02:51.895945Z",
     "iopub.status.busy": "2023-06-29T15:02:51.895682Z",
     "iopub.status.idle": "2023-06-29T15:02:51.900829Z",
     "shell.execute_reply": "2023-06-29T15:02:51.899842Z"
    },
    "papermill": {
     "duration": 0.021993,
     "end_time": "2023-06-29T15:02:51.903085",
     "exception": false,
     "start_time": "2023-06-29T15:02:51.881092",
     "status": "completed"
    },
    "tags": []
   },
   "outputs": [],
   "source": [
    "df_train_numerical = df_train.drop([\"Id\", \"EJ\", \"Class\"], axis=1)"
   ]
  },
  {
   "cell_type": "code",
   "execution_count": 7,
   "id": "2c308253",
   "metadata": {
    "execution": {
     "iopub.execute_input": "2023-06-29T15:02:51.925821Z",
     "iopub.status.busy": "2023-06-29T15:02:51.925101Z",
     "iopub.status.idle": "2023-06-29T15:02:52.224205Z",
     "shell.execute_reply": "2023-06-29T15:02:52.223253Z"
    },
    "papermill": {
     "duration": 0.312718,
     "end_time": "2023-06-29T15:02:52.226275",
     "exception": false,
     "start_time": "2023-06-29T15:02:51.913557",
     "status": "completed"
    },
    "tags": []
   },
   "outputs": [
    {
     "data": {
      "text/plain": [
       "<Axes: xlabel='feature'>"
      ]
     },
     "execution_count": 7,
     "metadata": {},
     "output_type": "execute_result"
    },
    {
     "data": {
      "image/png": "[encoded data removed]",
      "text/plain": [
       "<Figure size 640x480 with 1 Axes>"
      ]
     },
     "metadata": {},
     "output_type": "display_data"
    }
   ],
   "source": [
    "df_train_missing = df_train_numerical.isna().sum()\n",
    "df_train_missing = df_train_missing.reset_index()\n",
    "df_train_missing.columns = [\"feature\", \"missing_count\"]\n",
    "\n",
    "df_train_missing = df_train_missing.loc[df_train_missing[\"missing_count\"] > 0]\n",
    "\n",
    "df_train_missing.plot.bar(x='feature', y='missing_count')"
   ]
  },
  {
   "cell_type": "markdown",
   "id": "a85da790",
   "metadata": {
    "papermill": {
     "duration": 0.010805,
     "end_time": "2023-06-29T15:02:52.248459",
     "exception": false,
     "start_time": "2023-06-29T15:02:52.237654",
     "status": "completed"
    },
    "tags": []
   },
   "source": [
    "## 2.3 Descriptive Analysis"
   ]
  },
  {
   "cell_type": "code",
   "execution_count": 8,
   "id": "a95ae4dc",
   "metadata": {
    "execution": {
     "iopub.execute_input": "2023-06-29T15:02:52.272870Z",
     "iopub.status.busy": "2023-06-29T15:02:52.271972Z",
     "iopub.status.idle": "2023-06-29T15:02:52.417025Z",
     "shell.execute_reply": "2023-06-29T15:02:52.416174Z"
    },
    "papermill": {
     "duration": 0.159245,
     "end_time": "2023-06-29T15:02:52.419135",
     "exception": false,
     "start_time": "2023-06-29T15:02:52.259890",
     "status": "completed"
    },
    "tags": []
   },
   "outputs": [
    {
     "data": {
      "text/html": [
       "<div>\n",
       "<style scoped>\n",
       "    .dataframe tbody tr th:only-of-type {\n",
       "        vertical-align: middle;\n",
       "    }\n",
       "\n",
       "    .dataframe tbody tr th {\n",
       "        vertical-align: top;\n",
       "    }\n",
       "\n",
       "    .dataframe thead th {\n",
       "        text-align: right;\n",
       "    }\n",
       "</style>\n",
       "<table border=\"1\" class=\"dataframe\">\n",
       "  <thead>\n",
       "    <tr style=\"text-align: right;\">\n",
       "      <th></th>\n",
       "      <th>count</th>\n",
       "      <th>mean</th>\n",
       "      <th>std</th>\n",
       "      <th>min</th>\n",
       "      <th>25%</th>\n",
       "      <th>50%</th>\n",
       "      <th>75%</th>\n",
       "      <th>max</th>\n",
       "    </tr>\n",
       "  </thead>\n",
       "  <tbody>\n",
       "    <tr>\n",
       "      <th>AB</th>\n",
       "      <td>617.0</td>\n",
       "      <td>0.477149</td>\n",
       "      <td>0.468388</td>\n",
       "      <td>0.081187</td>\n",
       "      <td>0.252107</td>\n",
       "      <td>0.354659</td>\n",
       "      <td>0.559763</td>\n",
       "      <td>6.161666</td>\n",
       "    </tr>\n",
       "    <tr>\n",
       "      <th>AF</th>\n",
       "      <td>617.0</td>\n",
       "      <td>3502.013221</td>\n",
       "      <td>2300.322717</td>\n",
       "      <td>192.593280</td>\n",
       "      <td>2197.345480</td>\n",
       "      <td>3120.318960</td>\n",
       "      <td>4361.637390</td>\n",
       "      <td>28688.187660</td>\n",
       "    </tr>\n",
       "    <tr>\n",
       "      <th>AH</th>\n",
       "      <td>617.0</td>\n",
       "      <td>118.624513</td>\n",
       "      <td>127.838950</td>\n",
       "      <td>85.200147</td>\n",
       "      <td>85.200147</td>\n",
       "      <td>85.200147</td>\n",
       "      <td>113.739540</td>\n",
       "      <td>1910.123198</td>\n",
       "    </tr>\n",
       "    <tr>\n",
       "      <th>AM</th>\n",
       "      <td>617.0</td>\n",
       "      <td>38.968552</td>\n",
       "      <td>69.728226</td>\n",
       "      <td>3.177522</td>\n",
       "      <td>12.270314</td>\n",
       "      <td>20.533110</td>\n",
       "      <td>39.139886</td>\n",
       "      <td>630.518230</td>\n",
       "    </tr>\n",
       "    <tr>\n",
       "      <th>AR</th>\n",
       "      <td>617.0</td>\n",
       "      <td>10.128242</td>\n",
       "      <td>10.518877</td>\n",
       "      <td>8.138688</td>\n",
       "      <td>8.138688</td>\n",
       "      <td>8.138688</td>\n",
       "      <td>8.138688</td>\n",
       "      <td>178.943634</td>\n",
       "    </tr>\n",
       "    <tr>\n",
       "      <th>AX</th>\n",
       "      <td>617.0</td>\n",
       "      <td>5.545576</td>\n",
       "      <td>2.551696</td>\n",
       "      <td>0.699861</td>\n",
       "      <td>4.128294</td>\n",
       "      <td>5.031912</td>\n",
       "      <td>6.431634</td>\n",
       "      <td>38.270880</td>\n",
       "    </tr>\n",
       "    <tr>\n",
       "      <th>AY</th>\n",
       "      <td>617.0</td>\n",
       "      <td>0.060320</td>\n",
       "      <td>0.416817</td>\n",
       "      <td>0.025578</td>\n",
       "      <td>0.025578</td>\n",
       "      <td>0.025578</td>\n",
       "      <td>0.036845</td>\n",
       "      <td>10.315851</td>\n",
       "    </tr>\n",
       "    <tr>\n",
       "      <th>AZ</th>\n",
       "      <td>617.0</td>\n",
       "      <td>10.566447</td>\n",
       "      <td>4.350645</td>\n",
       "      <td>3.396778</td>\n",
       "      <td>8.129580</td>\n",
       "      <td>10.461320</td>\n",
       "      <td>12.969516</td>\n",
       "      <td>38.971568</td>\n",
       "    </tr>\n",
       "    <tr>\n",
       "      <th>BC</th>\n",
       "      <td>617.0</td>\n",
       "      <td>8.053012</td>\n",
       "      <td>65.166943</td>\n",
       "      <td>1.229900</td>\n",
       "      <td>1.229900</td>\n",
       "      <td>1.229900</td>\n",
       "      <td>5.081244</td>\n",
       "      <td>1463.693448</td>\n",
       "    </tr>\n",
       "    <tr>\n",
       "      <th>BD</th>\n",
       "      <td>617.0</td>\n",
       "      <td>5350.388655</td>\n",
       "      <td>3021.326641</td>\n",
       "      <td>1693.624320</td>\n",
       "      <td>4155.702870</td>\n",
       "      <td>4997.960730</td>\n",
       "      <td>6035.885700</td>\n",
       "      <td>53060.599240</td>\n",
       "    </tr>\n",
       "    <tr>\n",
       "      <th>BN</th>\n",
       "      <td>617.0</td>\n",
       "      <td>21.419492</td>\n",
       "      <td>3.478278</td>\n",
       "      <td>9.886800</td>\n",
       "      <td>19.420500</td>\n",
       "      <td>21.186000</td>\n",
       "      <td>23.657700</td>\n",
       "      <td>29.307300</td>\n",
       "    </tr>\n",
       "    <tr>\n",
       "      <th>BP</th>\n",
       "      <td>617.0</td>\n",
       "      <td>231.322223</td>\n",
       "      <td>183.992505</td>\n",
       "      <td>72.948951</td>\n",
       "      <td>156.847239</td>\n",
       "      <td>193.908816</td>\n",
       "      <td>247.803462</td>\n",
       "      <td>2447.810550</td>\n",
       "    </tr>\n",
       "    <tr>\n",
       "      <th>BQ</th>\n",
       "      <td>557.0</td>\n",
       "      <td>98.328737</td>\n",
       "      <td>96.479371</td>\n",
       "      <td>1.331155</td>\n",
       "      <td>27.834425</td>\n",
       "      <td>61.642115</td>\n",
       "      <td>134.009015</td>\n",
       "      <td>344.644105</td>\n",
       "    </tr>\n",
       "    <tr>\n",
       "      <th>BR</th>\n",
       "      <td>617.0</td>\n",
       "      <td>1218.133238</td>\n",
       "      <td>7575.293707</td>\n",
       "      <td>51.216883</td>\n",
       "      <td>424.990642</td>\n",
       "      <td>627.417402</td>\n",
       "      <td>975.649259</td>\n",
       "      <td>179250.252900</td>\n",
       "    </tr>\n",
       "    <tr>\n",
       "      <th>BZ</th>\n",
       "      <td>617.0</td>\n",
       "      <td>550.632525</td>\n",
       "      <td>2076.371275</td>\n",
       "      <td>257.432377</td>\n",
       "      <td>257.432377</td>\n",
       "      <td>257.432377</td>\n",
       "      <td>257.432377</td>\n",
       "      <td>50092.459300</td>\n",
       "    </tr>\n",
       "    <tr>\n",
       "      <th>CB</th>\n",
       "      <td>615.0</td>\n",
       "      <td>77.104151</td>\n",
       "      <td>159.049302</td>\n",
       "      <td>12.499760</td>\n",
       "      <td>23.317567</td>\n",
       "      <td>42.554330</td>\n",
       "      <td>77.310097</td>\n",
       "      <td>2271.436167</td>\n",
       "    </tr>\n",
       "    <tr>\n",
       "      <th>CC</th>\n",
       "      <td>614.0</td>\n",
       "      <td>0.688801</td>\n",
       "      <td>0.263994</td>\n",
       "      <td>0.176874</td>\n",
       "      <td>0.563688</td>\n",
       "      <td>0.658715</td>\n",
       "      <td>0.772206</td>\n",
       "      <td>4.103032</td>\n",
       "    </tr>\n",
       "    <tr>\n",
       "      <th>CD</th>\n",
       "      <td>617.0</td>\n",
       "      <td>90.251735</td>\n",
       "      <td>51.585130</td>\n",
       "      <td>23.387600</td>\n",
       "      <td>64.724192</td>\n",
       "      <td>79.819104</td>\n",
       "      <td>99.813520</td>\n",
       "      <td>633.534408</td>\n",
       "    </tr>\n",
       "    <tr>\n",
       "      <th>CF</th>\n",
       "      <td>617.0</td>\n",
       "      <td>11.241064</td>\n",
       "      <td>13.571133</td>\n",
       "      <td>0.510888</td>\n",
       "      <td>5.066306</td>\n",
       "      <td>9.123000</td>\n",
       "      <td>13.565901</td>\n",
       "      <td>200.967526</td>\n",
       "    </tr>\n",
       "    <tr>\n",
       "      <th>CH</th>\n",
       "      <td>617.0</td>\n",
       "      <td>0.030615</td>\n",
       "      <td>0.014808</td>\n",
       "      <td>0.003184</td>\n",
       "      <td>0.023482</td>\n",
       "      <td>0.027860</td>\n",
       "      <td>0.034427</td>\n",
       "      <td>0.224074</td>\n",
       "    </tr>\n",
       "    <tr>\n",
       "      <th>CL</th>\n",
       "      <td>617.0</td>\n",
       "      <td>1.403761</td>\n",
       "      <td>1.922210</td>\n",
       "      <td>1.050225</td>\n",
       "      <td>1.050225</td>\n",
       "      <td>1.050225</td>\n",
       "      <td>1.228445</td>\n",
       "      <td>31.688153</td>\n",
       "    </tr>\n",
       "    <tr>\n",
       "      <th>CR</th>\n",
       "      <td>617.0</td>\n",
       "      <td>0.742262</td>\n",
       "      <td>0.281195</td>\n",
       "      <td>0.069225</td>\n",
       "      <td>0.589575</td>\n",
       "      <td>0.730800</td>\n",
       "      <td>0.859350</td>\n",
       "      <td>3.039675</td>\n",
       "    </tr>\n",
       "    <tr>\n",
       "      <th>CS</th>\n",
       "      <td>617.0</td>\n",
       "      <td>36.917590</td>\n",
       "      <td>17.266347</td>\n",
       "      <td>13.784111</td>\n",
       "      <td>29.782467</td>\n",
       "      <td>34.835130</td>\n",
       "      <td>40.529401</td>\n",
       "      <td>267.942823</td>\n",
       "    </tr>\n",
       "    <tr>\n",
       "      <th>CU</th>\n",
       "      <td>617.0</td>\n",
       "      <td>1.383792</td>\n",
       "      <td>0.538717</td>\n",
       "      <td>0.137925</td>\n",
       "      <td>1.070298</td>\n",
       "      <td>1.351665</td>\n",
       "      <td>1.660617</td>\n",
       "      <td>4.951507</td>\n",
       "    </tr>\n",
       "    <tr>\n",
       "      <th>CW</th>\n",
       "      <td>617.0</td>\n",
       "      <td>27.165653</td>\n",
       "      <td>14.645993</td>\n",
       "      <td>7.030640</td>\n",
       "      <td>7.030640</td>\n",
       "      <td>36.019104</td>\n",
       "      <td>37.935832</td>\n",
       "      <td>64.521624</td>\n",
       "    </tr>\n",
       "    <tr>\n",
       "      <th>DA</th>\n",
       "      <td>617.0</td>\n",
       "      <td>51.128326</td>\n",
       "      <td>21.210888</td>\n",
       "      <td>6.906400</td>\n",
       "      <td>37.942520</td>\n",
       "      <td>49.180940</td>\n",
       "      <td>61.408760</td>\n",
       "      <td>210.330920</td>\n",
       "    </tr>\n",
       "    <tr>\n",
       "      <th>DE</th>\n",
       "      <td>617.0</td>\n",
       "      <td>401.901299</td>\n",
       "      <td>317.745623</td>\n",
       "      <td>35.998895</td>\n",
       "      <td>188.815690</td>\n",
       "      <td>307.509595</td>\n",
       "      <td>507.896200</td>\n",
       "      <td>2103.405190</td>\n",
       "    </tr>\n",
       "    <tr>\n",
       "      <th>DF</th>\n",
       "      <td>617.0</td>\n",
       "      <td>0.633884</td>\n",
       "      <td>1.912384</td>\n",
       "      <td>0.238680</td>\n",
       "      <td>0.238680</td>\n",
       "      <td>0.238680</td>\n",
       "      <td>0.238680</td>\n",
       "      <td>37.895013</td>\n",
       "    </tr>\n",
       "    <tr>\n",
       "      <th>DH</th>\n",
       "      <td>617.0</td>\n",
       "      <td>0.367002</td>\n",
       "      <td>0.112989</td>\n",
       "      <td>0.040995</td>\n",
       "      <td>0.295164</td>\n",
       "      <td>0.358023</td>\n",
       "      <td>0.426348</td>\n",
       "      <td>1.060404</td>\n",
       "    </tr>\n",
       "    <tr>\n",
       "      <th>DI</th>\n",
       "      <td>617.0</td>\n",
       "      <td>146.972099</td>\n",
       "      <td>86.084419</td>\n",
       "      <td>60.232470</td>\n",
       "      <td>102.703553</td>\n",
       "      <td>130.050630</td>\n",
       "      <td>165.836955</td>\n",
       "      <td>1049.168078</td>\n",
       "    </tr>\n",
       "    <tr>\n",
       "      <th>DL</th>\n",
       "      <td>617.0</td>\n",
       "      <td>94.795377</td>\n",
       "      <td>28.243187</td>\n",
       "      <td>10.345600</td>\n",
       "      <td>78.232240</td>\n",
       "      <td>96.264960</td>\n",
       "      <td>110.640680</td>\n",
       "      <td>326.236200</td>\n",
       "    </tr>\n",
       "    <tr>\n",
       "      <th>DN</th>\n",
       "      <td>617.0</td>\n",
       "      <td>26.370568</td>\n",
       "      <td>8.038825</td>\n",
       "      <td>6.339496</td>\n",
       "      <td>20.888264</td>\n",
       "      <td>25.248800</td>\n",
       "      <td>30.544224</td>\n",
       "      <td>62.808096</td>\n",
       "    </tr>\n",
       "    <tr>\n",
       "      <th>DU</th>\n",
       "      <td>616.0</td>\n",
       "      <td>1.802900</td>\n",
       "      <td>9.034721</td>\n",
       "      <td>0.005518</td>\n",
       "      <td>0.005518</td>\n",
       "      <td>0.251741</td>\n",
       "      <td>1.058690</td>\n",
       "      <td>161.355315</td>\n",
       "    </tr>\n",
       "    <tr>\n",
       "      <th>DV</th>\n",
       "      <td>617.0</td>\n",
       "      <td>1.924830</td>\n",
       "      <td>1.484555</td>\n",
       "      <td>1.743070</td>\n",
       "      <td>1.743070</td>\n",
       "      <td>1.743070</td>\n",
       "      <td>1.743070</td>\n",
       "      <td>25.192930</td>\n",
       "    </tr>\n",
       "    <tr>\n",
       "      <th>DY</th>\n",
       "      <td>617.0</td>\n",
       "      <td>26.388989</td>\n",
       "      <td>18.116679</td>\n",
       "      <td>0.804068</td>\n",
       "      <td>14.715792</td>\n",
       "      <td>21.642456</td>\n",
       "      <td>34.058344</td>\n",
       "      <td>152.355164</td>\n",
       "    </tr>\n",
       "    <tr>\n",
       "      <th>EB</th>\n",
       "      <td>617.0</td>\n",
       "      <td>9.072700</td>\n",
       "      <td>6.200281</td>\n",
       "      <td>4.926396</td>\n",
       "      <td>5.965392</td>\n",
       "      <td>8.149404</td>\n",
       "      <td>10.503048</td>\n",
       "      <td>94.958580</td>\n",
       "    </tr>\n",
       "    <tr>\n",
       "      <th>EE</th>\n",
       "      <td>617.0</td>\n",
       "      <td>3.064778</td>\n",
       "      <td>2.058344</td>\n",
       "      <td>0.286201</td>\n",
       "      <td>1.648679</td>\n",
       "      <td>2.616119</td>\n",
       "      <td>3.910070</td>\n",
       "      <td>18.324926</td>\n",
       "    </tr>\n",
       "    <tr>\n",
       "      <th>EG</th>\n",
       "      <td>617.0</td>\n",
       "      <td>1731.248215</td>\n",
       "      <td>1790.227476</td>\n",
       "      <td>185.594100</td>\n",
       "      <td>1111.160625</td>\n",
       "      <td>1493.817413</td>\n",
       "      <td>1905.701475</td>\n",
       "      <td>30243.758780</td>\n",
       "    </tr>\n",
       "    <tr>\n",
       "      <th>EH</th>\n",
       "      <td>617.0</td>\n",
       "      <td>0.305107</td>\n",
       "      <td>1.847499</td>\n",
       "      <td>0.003042</td>\n",
       "      <td>0.003042</td>\n",
       "      <td>0.085176</td>\n",
       "      <td>0.237276</td>\n",
       "      <td>42.569748</td>\n",
       "    </tr>\n",
       "    <tr>\n",
       "      <th>EL</th>\n",
       "      <td>557.0</td>\n",
       "      <td>69.582596</td>\n",
       "      <td>38.555707</td>\n",
       "      <td>5.394675</td>\n",
       "      <td>30.927468</td>\n",
       "      <td>71.949306</td>\n",
       "      <td>109.125159</td>\n",
       "      <td>109.125159</td>\n",
       "    </tr>\n",
       "    <tr>\n",
       "      <th>EP</th>\n",
       "      <td>617.0</td>\n",
       "      <td>105.060712</td>\n",
       "      <td>68.445620</td>\n",
       "      <td>78.526968</td>\n",
       "      <td>78.526968</td>\n",
       "      <td>78.526968</td>\n",
       "      <td>112.766654</td>\n",
       "      <td>1063.594578</td>\n",
       "    </tr>\n",
       "    <tr>\n",
       "      <th>EU</th>\n",
       "      <td>617.0</td>\n",
       "      <td>69.117005</td>\n",
       "      <td>390.187057</td>\n",
       "      <td>3.828384</td>\n",
       "      <td>4.324656</td>\n",
       "      <td>22.641144</td>\n",
       "      <td>49.085352</td>\n",
       "      <td>6501.264480</td>\n",
       "    </tr>\n",
       "    <tr>\n",
       "      <th>FC</th>\n",
       "      <td>616.0</td>\n",
       "      <td>71.341526</td>\n",
       "      <td>165.551545</td>\n",
       "      <td>7.534128</td>\n",
       "      <td>25.815384</td>\n",
       "      <td>36.394008</td>\n",
       "      <td>56.714448</td>\n",
       "      <td>3030.655824</td>\n",
       "    </tr>\n",
       "    <tr>\n",
       "      <th>FD</th>\n",
       "      <td>617.0</td>\n",
       "      <td>6.930086</td>\n",
       "      <td>64.754262</td>\n",
       "      <td>0.296850</td>\n",
       "      <td>0.296850</td>\n",
       "      <td>1.870155</td>\n",
       "      <td>4.880214</td>\n",
       "      <td>1578.654237</td>\n",
       "    </tr>\n",
       "    <tr>\n",
       "      <th>FE</th>\n",
       "      <td>617.0</td>\n",
       "      <td>10306.810737</td>\n",
       "      <td>11331.294051</td>\n",
       "      <td>1563.136688</td>\n",
       "      <td>5164.666260</td>\n",
       "      <td>7345.143424</td>\n",
       "      <td>10647.951650</td>\n",
       "      <td>143224.682300</td>\n",
       "    </tr>\n",
       "    <tr>\n",
       "      <th>FI</th>\n",
       "      <td>617.0</td>\n",
       "      <td>10.111079</td>\n",
       "      <td>2.934025</td>\n",
       "      <td>3.583450</td>\n",
       "      <td>8.523098</td>\n",
       "      <td>9.945452</td>\n",
       "      <td>11.516657</td>\n",
       "      <td>35.851039</td>\n",
       "    </tr>\n",
       "    <tr>\n",
       "      <th>FL</th>\n",
       "      <td>616.0</td>\n",
       "      <td>5.433199</td>\n",
       "      <td>11.496257</td>\n",
       "      <td>0.173229</td>\n",
       "      <td>0.173229</td>\n",
       "      <td>3.028141</td>\n",
       "      <td>6.238814</td>\n",
       "      <td>137.932739</td>\n",
       "    </tr>\n",
       "    <tr>\n",
       "      <th>FR</th>\n",
       "      <td>617.0</td>\n",
       "      <td>3.533905</td>\n",
       "      <td>50.181948</td>\n",
       "      <td>0.497060</td>\n",
       "      <td>0.497060</td>\n",
       "      <td>1.131000</td>\n",
       "      <td>1.512060</td>\n",
       "      <td>1244.227020</td>\n",
       "    </tr>\n",
       "    <tr>\n",
       "      <th>FS</th>\n",
       "      <td>615.0</td>\n",
       "      <td>0.421501</td>\n",
       "      <td>1.305365</td>\n",
       "      <td>0.067730</td>\n",
       "      <td>0.067730</td>\n",
       "      <td>0.250601</td>\n",
       "      <td>0.535067</td>\n",
       "      <td>31.365763</td>\n",
       "    </tr>\n",
       "    <tr>\n",
       "      <th>GB</th>\n",
       "      <td>617.0</td>\n",
       "      <td>20.724856</td>\n",
       "      <td>9.991907</td>\n",
       "      <td>4.102182</td>\n",
       "      <td>14.036718</td>\n",
       "      <td>18.771436</td>\n",
       "      <td>25.608406</td>\n",
       "      <td>135.781294</td>\n",
       "    </tr>\n",
       "    <tr>\n",
       "      <th>GE</th>\n",
       "      <td>617.0</td>\n",
       "      <td>131.714987</td>\n",
       "      <td>144.181524</td>\n",
       "      <td>72.611063</td>\n",
       "      <td>72.611063</td>\n",
       "      <td>72.611063</td>\n",
       "      <td>127.591671</td>\n",
       "      <td>1497.351958</td>\n",
       "    </tr>\n",
       "    <tr>\n",
       "      <th>GF</th>\n",
       "      <td>617.0</td>\n",
       "      <td>14679.595398</td>\n",
       "      <td>19352.959387</td>\n",
       "      <td>13.038894</td>\n",
       "      <td>2798.992584</td>\n",
       "      <td>7838.273610</td>\n",
       "      <td>19035.709240</td>\n",
       "      <td>143790.071200</td>\n",
       "    </tr>\n",
       "    <tr>\n",
       "      <th>GH</th>\n",
       "      <td>617.0</td>\n",
       "      <td>31.489716</td>\n",
       "      <td>9.864239</td>\n",
       "      <td>9.432735</td>\n",
       "      <td>25.034888</td>\n",
       "      <td>30.608946</td>\n",
       "      <td>36.863947</td>\n",
       "      <td>81.210825</td>\n",
       "    </tr>\n",
       "    <tr>\n",
       "      <th>GI</th>\n",
       "      <td>617.0</td>\n",
       "      <td>50.584437</td>\n",
       "      <td>36.266251</td>\n",
       "      <td>0.897628</td>\n",
       "      <td>23.011684</td>\n",
       "      <td>41.007968</td>\n",
       "      <td>67.931664</td>\n",
       "      <td>191.194764</td>\n",
       "    </tr>\n",
       "    <tr>\n",
       "      <th>GL</th>\n",
       "      <td>616.0</td>\n",
       "      <td>8.530961</td>\n",
       "      <td>10.327010</td>\n",
       "      <td>0.001129</td>\n",
       "      <td>0.124392</td>\n",
       "      <td>0.337827</td>\n",
       "      <td>21.978000</td>\n",
       "      <td>21.978000</td>\n",
       "    </tr>\n",
       "  </tbody>\n",
       "</table>\n",
       "</div>"
      ],
      "text/plain": [
       "     count          mean           std          min          25%          50%  \\\n",
       "AB   617.0      0.477149      0.468388     0.081187     0.252107     0.354659   \n",
       "AF   617.0   3502.013221   2300.322717   192.593280  2197.345480  3120.318960   \n",
       "AH   617.0    118.624513    127.838950    85.200147    85.200147    85.200147   \n",
       "AM   617.0     38.968552     69.728226     3.177522    12.270314    20.533110   \n",
       "AR   617.0     10.128242     10.518877     8.138688     8.138688     8.138688   \n",
       "AX   617.0      5.545576      2.551696     0.699861     4.128294     5.031912   \n",
       "AY   617.0      0.060320      0.416817     0.025578     0.025578     0.025578   \n",
       "AZ   617.0     10.566447      4.350645     3.396778     8.129580    10.461320   \n",
       "BC   617.0      8.053012     65.166943     1.229900     1.229900     1.229900   \n",
       "BD   617.0   5350.388655   3021.326641  1693.624320  4155.702870  4997.960730   \n",
       "BN   617.0     21.419492      3.478278     9.886800    19.420500    21.186000   \n",
       "BP   617.0    231.322223    183.992505    72.948951   156.847239   193.908816   \n",
       "BQ   557.0     98.328737     96.479371     1.331155    27.834425    61.642115   \n",
       "BR   617.0   1218.133238   7575.293707    51.216883   424.990642   627.417402   \n",
       "BZ   617.0    550.632525   2076.371275   257.432377   257.432377   257.432377   \n",
       "CB   615.0     77.104151    159.049302    12.499760    23.317567    42.554330   \n",
       "CC   614.0      0.688801      0.263994     0.176874     0.563688     0.658715   \n",
       "CD   617.0     90.251735     51.585130    23.387600    64.724192    79.819104   \n",
       "CF   617.0     11.241064     13.571133     0.510888     5.066306     9.123000   \n",
       "CH   617.0      0.030615      0.014808     0.003184     0.023482     0.027860   \n",
       "CL   617.0      1.403761      1.922210     1.050225     1.050225     1.050225   \n",
       "CR   617.0      0.742262      0.281195     0.069225     0.589575     0.730800   \n",
       "CS   617.0     36.917590     17.266347    13.784111    29.782467    34.835130   \n",
       "CU   617.0      1.383792      0.538717     0.137925     1.070298     1.351665   \n",
       "CW   617.0     27.165653     14.645993     7.030640     7.030640    36.019104   \n",
       "DA   617.0     51.128326     21.210888     6.906400    37.942520    49.180940   \n",
       "DE   617.0    401.901299    317.745623    35.998895   188.815690   307.509595   \n",
       "DF   617.0      0.633884      1.912384     0.238680     0.238680     0.238680   \n",
       "DH   617.0      0.367002      0.112989     0.040995     0.295164     0.358023   \n",
       "DI   617.0    146.972099     86.084419    60.232470   102.703553   130.050630   \n",
       "DL   617.0     94.795377     28.243187    10.345600    78.232240    96.264960   \n",
       "DN   617.0     26.370568      8.038825     6.339496    20.888264    25.248800   \n",
       "DU   616.0      1.802900      9.034721     0.005518     0.005518     0.251741   \n",
       "DV   617.0      1.924830      1.484555     1.743070     1.743070     1.743070   \n",
       "DY   617.0     26.388989     18.116679     0.804068    14.715792    21.642456   \n",
       "EB   617.0      9.072700      6.200281     4.926396     5.965392     8.149404   \n",
       "EE   617.0      3.064778      2.058344     0.286201     1.648679     2.616119   \n",
       "EG   617.0   1731.248215   1790.227476   185.594100  1111.160625  1493.817413   \n",
       "EH   617.0      0.305107      1.847499     0.003042     0.003042     0.085176   \n",
       "EL   557.0     69.582596     38.555707     5.394675    30.927468    71.949306   \n",
       "EP   617.0    105.060712     68.445620    78.526968    78.526968    78.526968   \n",
       "EU   617.0     69.117005    390.187057     3.828384     4.324656    22.641144   \n",
       "FC   616.0     71.341526    165.551545     7.534128    25.815384    36.394008   \n",
       "FD   617.0      6.930086     64.754262     0.296850     0.296850     1.870155   \n",
       "FE   617.0  10306.810737  11331.294051  1563.136688  5164.666260  7345.143424   \n",
       "FI   617.0     10.111079      2.934025     3.583450     8.523098     9.945452   \n",
       "FL   616.0      5.433199     11.496257     0.173229     0.173229     3.028141   \n",
       "FR   617.0      3.533905     50.181948     0.497060     0.497060     1.131000   \n",
       "FS   615.0      0.421501      1.305365     0.067730     0.067730     0.250601   \n",
       "GB   617.0     20.724856      9.991907     4.102182    14.036718    18.771436   \n",
       "GE   617.0    131.714987    144.181524    72.611063    72.611063    72.611063   \n",
       "GF   617.0  14679.595398  19352.959387    13.038894  2798.992584  7838.273610   \n",
       "GH   617.0     31.489716      9.864239     9.432735    25.034888    30.608946   \n",
       "GI   617.0     50.584437     36.266251     0.897628    23.011684    41.007968   \n",
       "GL   616.0      8.530961     10.327010     0.001129     0.124392     0.337827   \n",
       "\n",
       "              75%            max  \n",
       "AB       0.559763       6.161666  \n",
       "AF    4361.637390   28688.187660  \n",
       "AH     113.739540    1910.123198  \n",
       "AM      39.139886     630.518230  \n",
       "AR       8.138688     178.943634  \n",
       "AX       6.431634      38.270880  \n",
       "AY       0.036845      10.315851  \n",
       "AZ      12.969516      38.971568  \n",
       "BC       5.081244    1463.693448  \n",
       "BD    6035.885700   53060.599240  \n",
       "BN      23.657700      29.307300  \n",
       "BP     247.803462    2447.810550  \n",
       "BQ     134.009015     344.644105  \n",
       "BR     975.649259  179250.252900  \n",
       "BZ     257.432377   50092.459300  \n",
       "CB      77.310097    2271.436167  \n",
       "CC       0.772206       4.103032  \n",
       "CD      99.813520     633.534408  \n",
       "CF      13.565901     200.967526  \n",
       "CH       0.034427       0.224074  \n",
       "CL       1.228445      31.688153  \n",
       "CR       0.859350       3.039675  \n",
       "CS      40.529401     267.942823  \n",
       "CU       1.660617       4.951507  \n",
       "CW      37.935832      64.521624  \n",
       "DA      61.408760     210.330920  \n",
       "DE     507.896200    2103.405190  \n",
       "DF       0.238680      37.895013  \n",
       "DH       0.426348       1.060404  \n",
       "DI     165.836955    1049.168078  \n",
       "DL     110.640680     326.236200  \n",
       "DN      30.544224      62.808096  \n",
       "DU       1.058690     161.355315  \n",
       "DV       1.743070      25.192930  \n",
       "DY      34.058344     152.355164  \n",
       "EB      10.503048      94.958580  \n",
       "EE       3.910070      18.324926  \n",
       "EG    1905.701475   30243.758780  \n",
       "EH       0.237276      42.569748  \n",
       "EL     109.125159     109.125159  \n",
       "EP     112.766654    1063.594578  \n",
       "EU      49.085352    6501.264480  \n",
       "FC      56.714448    3030.655824  \n",
       "FD       4.880214    1578.654237  \n",
       "FE   10647.951650  143224.682300  \n",
       "FI      11.516657      35.851039  \n",
       "FL       6.238814     137.932739  \n",
       "FR       1.512060    1244.227020  \n",
       "FS       0.535067      31.365763  \n",
       "GB      25.608406     135.781294  \n",
       "GE     127.591671    1497.351958  \n",
       "GF   19035.709240  143790.071200  \n",
       "GH      36.863947      81.210825  \n",
       "GI      67.931664     191.194764  \n",
       "GL      21.978000      21.978000  "
      ]
     },
     "execution_count": 8,
     "metadata": {},
     "output_type": "execute_result"
    }
   ],
   "source": [
    "df_train_numerical.describe().transpose()"
   ]
  },
  {
   "cell_type": "markdown",
   "id": "7eb46557",
   "metadata": {
    "papermill": {
     "duration": 0.011913,
     "end_time": "2023-06-29T15:02:52.443267",
     "exception": false,
     "start_time": "2023-06-29T15:02:52.431354",
     "status": "completed"
    },
    "tags": []
   },
   "source": [
    "## Data Pre-Processing for Model Data"
   ]
  },
  {
   "cell_type": "markdown",
   "id": "5c2a6796",
   "metadata": {
    "papermill": {
     "duration": 0.011502,
     "end_time": "2023-06-29T15:02:52.466626",
     "exception": false,
     "start_time": "2023-06-29T15:02:52.455124",
     "status": "completed"
    },
    "tags": []
   },
   "source": [
    "## 3.1 Missing Value Imputation - kNN Imputer"
   ]
  },
  {
   "cell_type": "code",
   "execution_count": 9,
   "id": "b4bd8de0",
   "metadata": {
    "execution": {
     "iopub.execute_input": "2023-06-29T15:02:52.492733Z",
     "iopub.status.busy": "2023-06-29T15:02:52.491531Z",
     "iopub.status.idle": "2023-06-29T15:02:52.528778Z",
     "shell.execute_reply": "2023-06-29T15:02:52.527557Z"
    },
    "papermill": {
     "duration": 0.053268,
     "end_time": "2023-06-29T15:02:52.531815",
     "exception": false,
     "start_time": "2023-06-29T15:02:52.478547",
     "status": "completed"
    },
    "tags": []
   },
   "outputs": [],
   "source": [
    "imputer = KNNImputer(n_neighbors=10)\n",
    "numerical_columns = df_train_numerical.columns\n",
    "\n",
    "df_train_imputed = pd.DataFrame(imputer.fit_transform(df_train[numerical_columns]), columns=numerical_columns)\n",
    "df_test_imputed = pd.DataFrame(imputer.fit_transform(df_test[numerical_columns]), columns=numerical_columns)"
   ]
  },
  {
   "cell_type": "code",
   "execution_count": 10,
   "id": "30415392",
   "metadata": {
    "execution": {
     "iopub.execute_input": "2023-06-29T15:02:52.585004Z",
     "iopub.status.busy": "2023-06-29T15:02:52.584446Z",
     "iopub.status.idle": "2023-06-29T15:02:52.592801Z",
     "shell.execute_reply": "2023-06-29T15:02:52.591655Z"
    },
    "papermill": {
     "duration": 0.038802,
     "end_time": "2023-06-29T15:02:52.596431",
     "exception": false,
     "start_time": "2023-06-29T15:02:52.557629",
     "status": "completed"
    },
    "tags": []
   },
   "outputs": [
    {
     "name": "stdout",
     "output_type": "stream",
     "text": [
      "AB     0\n",
      "AF     0\n",
      "AH     0\n",
      "AM     0\n",
      "AR     0\n",
      "AX     0\n",
      "AY     0\n",
      "AZ     0\n",
      "BC     0\n",
      "BD     0\n",
      "BN     0\n",
      "BP     0\n",
      "BQ     0\n",
      "BR     0\n",
      "BZ     0\n",
      "CB     0\n",
      "CC     0\n",
      "CD     0\n",
      "CF     0\n",
      "CH     0\n",
      "CL     0\n",
      "CR     0\n",
      "CS     0\n",
      "CU     0\n",
      "CW     0\n",
      "DA     0\n",
      "DE     0\n",
      "DF     0\n",
      "DH     0\n",
      "DI     0\n",
      "DL     0\n",
      "DN     0\n",
      "DU     0\n",
      "DV     0\n",
      "DY     0\n",
      "EB     0\n",
      "EE     0\n",
      "EG     0\n",
      "EH     0\n",
      "EL     0\n",
      "EP     0\n",
      "EU     0\n",
      "FC     0\n",
      "FD     0\n",
      "FE     0\n",
      "FI     0\n",
      "FL     0\n",
      "FR     0\n",
      "FS     0\n",
      "GB     0\n",
      "GE     0\n",
      "GF     0\n",
      "GH     0\n",
      "GI     0\n",
      "GL     0\n",
      "dtype: int64\n"
     ]
    }
   ],
   "source": [
    "print(f\"{df_train_imputed.isnull().sum()}\")"
   ]
  },
  {
   "cell_type": "code",
   "execution_count": 11,
   "id": "d41b5699",
   "metadata": {
    "execution": {
     "iopub.execute_input": "2023-06-29T15:02:52.643694Z",
     "iopub.status.busy": "2023-06-29T15:02:52.643425Z",
     "iopub.status.idle": "2023-06-29T15:02:52.647931Z",
     "shell.execute_reply": "2023-06-29T15:02:52.647064Z"
    },
    "papermill": {
     "duration": 0.02787,
     "end_time": "2023-06-29T15:02:52.650119",
     "exception": false,
     "start_time": "2023-06-29T15:02:52.622249",
     "status": "completed"
    },
    "tags": []
   },
   "outputs": [
    {
     "name": "stdout",
     "output_type": "stream",
     "text": [
      "(617, 55)\n",
      "(5, 55)\n"
     ]
    }
   ],
   "source": [
    "print(df_train_imputed.shape)\n",
    "print(df_test_imputed.shape)"
   ]
  },
  {
   "cell_type": "code",
   "execution_count": 12,
   "id": "916f66d9",
   "metadata": {
    "execution": {
     "iopub.execute_input": "2023-06-29T15:02:52.675721Z",
     "iopub.status.busy": "2023-06-29T15:02:52.674942Z",
     "iopub.status.idle": "2023-06-29T15:02:52.684084Z",
     "shell.execute_reply": "2023-06-29T15:02:52.683204Z"
    },
    "papermill": {
     "duration": 0.023968,
     "end_time": "2023-06-29T15:02:52.686096",
     "exception": false,
     "start_time": "2023-06-29T15:02:52.662128",
     "status": "completed"
    },
    "tags": []
   },
   "outputs": [
    {
     "name": "stdout",
     "output_type": "stream",
     "text": [
      "Shape of the Train data set : (617, 58)\n",
      "Shape of the Test data set : (5, 57)\n"
     ]
    }
   ],
   "source": [
    "df_train_categorical = df_train.drop(numerical_columns, axis=1)\n",
    "categorical_train_columns = df_train_categorical.columns\n",
    "\n",
    "df_test_categorical = df_test.drop(numerical_columns, axis=1)\n",
    "categorical_test_columns = df_test_categorical.columns\n",
    "\n",
    "df_train_2 = pd.concat([df_train_imputed, df_train_categorical], axis=1)\n",
    "df_test_2 = pd.concat([df_test_imputed, df_test_categorical], axis=1)\n",
    "\n",
    "print(f\"Shape of the Train data set : {df_train_2.shape}\")\n",
    "print(f\"Shape of the Test data set : {df_test_2.shape}\")"
   ]
  },
  {
   "cell_type": "code",
   "execution_count": 13,
   "id": "32288cf9",
   "metadata": {
    "execution": {
     "iopub.execute_input": "2023-06-29T15:02:52.711628Z",
     "iopub.status.busy": "2023-06-29T15:02:52.710919Z",
     "iopub.status.idle": "2023-06-29T15:02:52.739063Z",
     "shell.execute_reply": "2023-06-29T15:02:52.738133Z"
    },
    "papermill": {
     "duration": 0.042748,
     "end_time": "2023-06-29T15:02:52.740981",
     "exception": false,
     "start_time": "2023-06-29T15:02:52.698233",
     "status": "completed"
    },
    "tags": []
   },
   "outputs": [
    {
     "data": {
      "text/html": [
       "<div>\n",
       "<style scoped>\n",
       "    .dataframe tbody tr th:only-of-type {\n",
       "        vertical-align: middle;\n",
       "    }\n",
       "\n",
       "    .dataframe tbody tr th {\n",
       "        vertical-align: top;\n",
       "    }\n",
       "\n",
       "    .dataframe thead th {\n",
       "        text-align: right;\n",
       "    }\n",
       "</style>\n",
       "<table border=\"1\" class=\"dataframe\">\n",
       "  <thead>\n",
       "    <tr style=\"text-align: right;\">\n",
       "      <th></th>\n",
       "      <th>AB</th>\n",
       "      <th>AF</th>\n",
       "      <th>AH</th>\n",
       "      <th>AM</th>\n",
       "      <th>AR</th>\n",
       "      <th>AX</th>\n",
       "      <th>AY</th>\n",
       "      <th>AZ</th>\n",
       "      <th>BC</th>\n",
       "      <th>BD</th>\n",
       "      <th>...</th>\n",
       "      <th>FR</th>\n",
       "      <th>FS</th>\n",
       "      <th>GB</th>\n",
       "      <th>GE</th>\n",
       "      <th>GF</th>\n",
       "      <th>GH</th>\n",
       "      <th>GI</th>\n",
       "      <th>GL</th>\n",
       "      <th>Id</th>\n",
       "      <th>EJ</th>\n",
       "    </tr>\n",
       "  </thead>\n",
       "  <tbody>\n",
       "    <tr>\n",
       "      <th>0</th>\n",
       "      <td>0.0</td>\n",
       "      <td>0.0</td>\n",
       "      <td>0.0</td>\n",
       "      <td>0.0</td>\n",
       "      <td>0.0</td>\n",
       "      <td>0.0</td>\n",
       "      <td>0.0</td>\n",
       "      <td>0.0</td>\n",
       "      <td>0.0</td>\n",
       "      <td>0.0</td>\n",
       "      <td>...</td>\n",
       "      <td>0.0</td>\n",
       "      <td>0.0</td>\n",
       "      <td>0.0</td>\n",
       "      <td>0.0</td>\n",
       "      <td>0.0</td>\n",
       "      <td>0.0</td>\n",
       "      <td>0.0</td>\n",
       "      <td>0.0</td>\n",
       "      <td>00eed32682bb</td>\n",
       "      <td>A</td>\n",
       "    </tr>\n",
       "    <tr>\n",
       "      <th>1</th>\n",
       "      <td>0.0</td>\n",
       "      <td>0.0</td>\n",
       "      <td>0.0</td>\n",
       "      <td>0.0</td>\n",
       "      <td>0.0</td>\n",
       "      <td>0.0</td>\n",
       "      <td>0.0</td>\n",
       "      <td>0.0</td>\n",
       "      <td>0.0</td>\n",
       "      <td>0.0</td>\n",
       "      <td>...</td>\n",
       "      <td>0.0</td>\n",
       "      <td>0.0</td>\n",
       "      <td>0.0</td>\n",
       "      <td>0.0</td>\n",
       "      <td>0.0</td>\n",
       "      <td>0.0</td>\n",
       "      <td>0.0</td>\n",
       "      <td>0.0</td>\n",
       "      <td>010ebe33f668</td>\n",
       "      <td>A</td>\n",
       "    </tr>\n",
       "    <tr>\n",
       "      <th>2</th>\n",
       "      <td>0.0</td>\n",
       "      <td>0.0</td>\n",
       "      <td>0.0</td>\n",
       "      <td>0.0</td>\n",
       "      <td>0.0</td>\n",
       "      <td>0.0</td>\n",
       "      <td>0.0</td>\n",
       "      <td>0.0</td>\n",
       "      <td>0.0</td>\n",
       "      <td>0.0</td>\n",
       "      <td>...</td>\n",
       "      <td>0.0</td>\n",
       "      <td>0.0</td>\n",
       "      <td>0.0</td>\n",
       "      <td>0.0</td>\n",
       "      <td>0.0</td>\n",
       "      <td>0.0</td>\n",
       "      <td>0.0</td>\n",
       "      <td>0.0</td>\n",
       "      <td>02fa521e1838</td>\n",
       "      <td>A</td>\n",
       "    </tr>\n",
       "    <tr>\n",
       "      <th>3</th>\n",
       "      <td>0.0</td>\n",
       "      <td>0.0</td>\n",
       "      <td>0.0</td>\n",
       "      <td>0.0</td>\n",
       "      <td>0.0</td>\n",
       "      <td>0.0</td>\n",
       "      <td>0.0</td>\n",
       "      <td>0.0</td>\n",
       "      <td>0.0</td>\n",
       "      <td>0.0</td>\n",
       "      <td>...</td>\n",
       "      <td>0.0</td>\n",
       "      <td>0.0</td>\n",
       "      <td>0.0</td>\n",
       "      <td>0.0</td>\n",
       "      <td>0.0</td>\n",
       "      <td>0.0</td>\n",
       "      <td>0.0</td>\n",
       "      <td>0.0</td>\n",
       "      <td>040e15f562a2</td>\n",
       "      <td>A</td>\n",
       "    </tr>\n",
       "    <tr>\n",
       "      <th>4</th>\n",
       "      <td>0.0</td>\n",
       "      <td>0.0</td>\n",
       "      <td>0.0</td>\n",
       "      <td>0.0</td>\n",
       "      <td>0.0</td>\n",
       "      <td>0.0</td>\n",
       "      <td>0.0</td>\n",
       "      <td>0.0</td>\n",
       "      <td>0.0</td>\n",
       "      <td>0.0</td>\n",
       "      <td>...</td>\n",
       "      <td>0.0</td>\n",
       "      <td>0.0</td>\n",
       "      <td>0.0</td>\n",
       "      <td>0.0</td>\n",
       "      <td>0.0</td>\n",
       "      <td>0.0</td>\n",
       "      <td>0.0</td>\n",
       "      <td>0.0</td>\n",
       "      <td>046e85c7cc7f</td>\n",
       "      <td>A</td>\n",
       "    </tr>\n",
       "  </tbody>\n",
       "</table>\n",
       "<p>5 rows × 57 columns</p>\n",
       "</div>"
      ],
      "text/plain": [
       "    AB   AF   AH   AM   AR   AX   AY   AZ   BC  BD   ...   FR   FS   GB   GE  \\\n",
       "0  0.0  0.0  0.0  0.0  0.0  0.0  0.0  0.0  0.0  0.0  ...  0.0  0.0  0.0  0.0   \n",
       "1  0.0  0.0  0.0  0.0  0.0  0.0  0.0  0.0  0.0  0.0  ...  0.0  0.0  0.0  0.0   \n",
       "2  0.0  0.0  0.0  0.0  0.0  0.0  0.0  0.0  0.0  0.0  ...  0.0  0.0  0.0  0.0   \n",
       "3  0.0  0.0  0.0  0.0  0.0  0.0  0.0  0.0  0.0  0.0  ...  0.0  0.0  0.0  0.0   \n",
       "4  0.0  0.0  0.0  0.0  0.0  0.0  0.0  0.0  0.0  0.0  ...  0.0  0.0  0.0  0.0   \n",
       "\n",
       "    GF   GH   GI   GL            Id  EJ  \n",
       "0  0.0  0.0  0.0  0.0  00eed32682bb   A  \n",
       "1  0.0  0.0  0.0  0.0  010ebe33f668   A  \n",
       "2  0.0  0.0  0.0  0.0  02fa521e1838   A  \n",
       "3  0.0  0.0  0.0  0.0  040e15f562a2   A  \n",
       "4  0.0  0.0  0.0  0.0  046e85c7cc7f   A  \n",
       "\n",
       "[5 rows x 57 columns]"
      ]
     },
     "execution_count": 13,
     "metadata": {},
     "output_type": "execute_result"
    }
   ],
   "source": [
    "df_test_2"
   ]
  },
  {
   "cell_type": "markdown",
   "id": "ec3b1a05",
   "metadata": {
    "papermill": {
     "duration": 0.012375,
     "end_time": "2023-06-29T15:02:52.765614",
     "exception": false,
     "start_time": "2023-06-29T15:02:52.753239",
     "status": "completed"
    },
    "tags": []
   },
   "source": [
    "## 3.2 Data Standarization for Numerical Features"
   ]
  },
  {
   "cell_type": "code",
   "execution_count": 14,
   "id": "e674a31c",
   "metadata": {
    "execution": {
     "iopub.execute_input": "2023-06-29T15:02:52.791516Z",
     "iopub.status.busy": "2023-06-29T15:02:52.791237Z",
     "iopub.status.idle": "2023-06-29T15:02:52.824261Z",
     "shell.execute_reply": "2023-06-29T15:02:52.823033Z"
    },
    "papermill": {
     "duration": 0.048261,
     "end_time": "2023-06-29T15:02:52.826379",
     "exception": false,
     "start_time": "2023-06-29T15:02:52.778118",
     "status": "completed"
    },
    "tags": []
   },
   "outputs": [
    {
     "name": "stdout",
     "output_type": "stream",
     "text": [
      "Shape of Scaled Train Data set : (617, 55)\n",
      "Shape of Scaled Test Data set : (5, 55)\n"
     ]
    }
   ],
   "source": [
    "scaler = RobustScaler()\n",
    "\n",
    "scaler_train = scaler.fit_transform(df_train_2[numerical_columns])\n",
    "scaler_df_train = pd.DataFrame(scaler_train, columns=numerical_columns)\n",
    "\n",
    "scaler_test = scaler.fit_transform(df_test_2[numerical_columns])\n",
    "scaler_df_test = pd.DataFrame(scaler_test, columns=numerical_columns)\n",
    "\n",
    "print(f\"Shape of Scaled Train Data set : {scaler_df_train.shape}\")\n",
    "print(f\"Shape of Scaled Test Data set : {scaler_df_test.shape}\")"
   ]
  },
  {
   "cell_type": "code",
   "execution_count": 15,
   "id": "ee1f1dfe",
   "metadata": {
    "execution": {
     "iopub.execute_input": "2023-06-29T15:02:52.853196Z",
     "iopub.status.busy": "2023-06-29T15:02:52.852464Z",
     "iopub.status.idle": "2023-06-29T15:02:52.859675Z",
     "shell.execute_reply": "2023-06-29T15:02:52.858571Z"
    },
    "papermill": {
     "duration": 0.022541,
     "end_time": "2023-06-29T15:02:52.861591",
     "exception": false,
     "start_time": "2023-06-29T15:02:52.839050",
     "status": "completed"
    },
    "tags": []
   },
   "outputs": [
    {
     "name": "stdout",
     "output_type": "stream",
     "text": [
      "Shape of Train Data set : (617, 58)\n",
      "Shape of Test Data set : (5, 57)\n"
     ]
    }
   ],
   "source": [
    "df_train_2 = pd.concat([scaler_df_train, df_train_categorical], axis=1)\n",
    "df_test_2 = pd.concat([scaler_df_test, df_test_categorical], axis=1)\n",
    "\n",
    "print(f\"Shape of Train Data set : {df_train_2.shape}\")\n",
    "print(f\"Shape of Test Data set : {df_test_2.shape}\")"
   ]
  },
  {
   "cell_type": "markdown",
   "id": "e3fa1b61",
   "metadata": {
    "papermill": {
     "duration": 0.012665,
     "end_time": "2023-06-29T15:02:52.886873",
     "exception": false,
     "start_time": "2023-06-29T15:02:52.874208",
     "status": "completed"
    },
    "tags": []
   },
   "source": [
    "## 3.3 Data Encoding for Categorical Features"
   ]
  },
  {
   "cell_type": "code",
   "execution_count": 16,
   "id": "372ec276",
   "metadata": {
    "execution": {
     "iopub.execute_input": "2023-06-29T15:02:52.913624Z",
     "iopub.status.busy": "2023-06-29T15:02:52.912909Z",
     "iopub.status.idle": "2023-06-29T15:02:52.936781Z",
     "shell.execute_reply": "2023-06-29T15:02:52.935641Z"
    },
    "papermill": {
     "duration": 0.039135,
     "end_time": "2023-06-29T15:02:52.938663",
     "exception": false,
     "start_time": "2023-06-29T15:02:52.899528",
     "status": "completed"
    },
    "tags": []
   },
   "outputs": [
    {
     "name": "stdout",
     "output_type": "stream",
     "text": [
      "Shape of Train Data set : (617, 1)\n",
      "Shape of Test Data set : (5, 1)\n"
     ]
    }
   ],
   "source": [
    "CATBoostENCODE = encoders.CatBoostEncoder()\n",
    "\n",
    "categorical_cols = [\"EJ\"]\n",
    "\n",
    "encoder_train = CATBoostENCODE.fit_transform(df_train_2[categorical_cols], df_train_2[\"Class\"])\n",
    "encoded_df_train = pd.DataFrame(encoder_train)\n",
    "\n",
    "encoder_test = CATBoostENCODE.transform(df_test_2[categorical_cols])\n",
    "encoded_df_test = pd.DataFrame(encoder_test)\n",
    "\n",
    "print(f\"Shape of Train Data set : {encoded_df_train.shape}\")\n",
    "print(f\"Shape of Test Data set : {encoded_df_test.shape}\")"
   ]
  },
  {
   "cell_type": "code",
   "execution_count": 17,
   "id": "ca6a0c53",
   "metadata": {
    "execution": {
     "iopub.execute_input": "2023-06-29T15:02:52.965406Z",
     "iopub.status.busy": "2023-06-29T15:02:52.964621Z",
     "iopub.status.idle": "2023-06-29T15:02:52.972505Z",
     "shell.execute_reply": "2023-06-29T15:02:52.971375Z"
    },
    "papermill": {
     "duration": 0.023558,
     "end_time": "2023-06-29T15:02:52.974601",
     "exception": false,
     "start_time": "2023-06-29T15:02:52.951043",
     "status": "completed"
    },
    "tags": []
   },
   "outputs": [
    {
     "name": "stdout",
     "output_type": "stream",
     "text": [
      "Shape of Train Data set : (617, 58)\n",
      "Shape of Test Data set : (5, 57)\n"
     ]
    }
   ],
   "source": [
    "df_train_2 = pd.concat([encoded_df_train, df_train_imputed, df_train_2[\"Class\"], df_train_2[\"Id\"]], axis=1)\n",
    "df_test_2 = pd.concat([encoded_df_test, df_test_imputed, df_test_2[\"Id\"]], axis=1)\n",
    "\n",
    "print(f\"Shape of Train Data set : {df_train_2.shape}\")\n",
    "print(f\"Shape of Test Data set : {df_test_2.shape}\")"
   ]
  },
  {
   "cell_type": "markdown",
   "id": "1d36d77e",
   "metadata": {
    "papermill": {
     "duration": 0.012579,
     "end_time": "2023-06-29T15:02:52.999801",
     "exception": false,
     "start_time": "2023-06-29T15:02:52.987222",
     "status": "completed"
    },
    "tags": []
   },
   "source": [
    "## 3.4 SelectKBest Method"
   ]
  },
  {
   "cell_type": "code",
   "execution_count": 18,
   "id": "2d60e1ff",
   "metadata": {
    "execution": {
     "iopub.execute_input": "2023-06-29T15:02:53.029543Z",
     "iopub.status.busy": "2023-06-29T15:02:53.028884Z",
     "iopub.status.idle": "2023-06-29T15:02:53.034664Z",
     "shell.execute_reply": "2023-06-29T15:02:53.033616Z"
    },
    "papermill": {
     "duration": 0.024329,
     "end_time": "2023-06-29T15:02:53.036724",
     "exception": false,
     "start_time": "2023-06-29T15:02:53.012395",
     "status": "completed"
    },
    "tags": []
   },
   "outputs": [],
   "source": [
    "train = df_train_2.drop([\"Id\", \"Class\"], axis=1)\n",
    "test = df_train_2[\"Class\"]\n",
    "\n",
    "test.columns = [\"Class\"]"
   ]
  },
  {
   "cell_type": "code",
   "execution_count": 19,
   "id": "5d3c8bde",
   "metadata": {
    "execution": {
     "iopub.execute_input": "2023-06-29T15:02:53.063774Z",
     "iopub.status.busy": "2023-06-29T15:02:53.063064Z",
     "iopub.status.idle": "2023-06-29T15:02:53.080219Z",
     "shell.execute_reply": "2023-06-29T15:02:53.078351Z"
    },
    "papermill": {
     "duration": 0.032693,
     "end_time": "2023-06-29T15:02:53.082197",
     "exception": false,
     "start_time": "2023-06-29T15:02:53.049504",
     "status": "completed"
    },
    "tags": []
   },
   "outputs": [
    {
     "name": "stdout",
     "output_type": "stream",
     "text": [
      "Before the SelectKBest = (617, 56)\n",
      "Feature EJ: 0.799 with p-value 0.372\n",
      "Feature AB: 52.566 with p-value 0.000\n",
      "Feature AF: 62.007 with p-value 0.000\n",
      "Feature AH: 1.228 with p-value 0.268\n",
      "Feature AM: 37.314 with p-value 0.000\n",
      "Feature AR: 2.560 with p-value 0.110\n",
      "Feature AX: 5.917 with p-value 0.015\n",
      "Feature AY: 4.206 with p-value 0.041\n",
      "Feature AZ: 0.112 with p-value 0.738\n",
      "Feature BC: 15.316 with p-value 0.000\n",
      "Feature BD : 7.839 with p-value 0.005\n",
      "Feature BN: 25.169 with p-value 0.000\n",
      "Feature BP: 15.600 with p-value 0.000\n",
      "Feature BQ: 51.199 with p-value 0.000\n",
      "Feature BR: 4.861 with p-value 0.028\n",
      "Feature BZ: 7.872 with p-value 0.005\n",
      "Feature CB: 0.130 with p-value 0.719\n",
      "Feature CC: 1.709 with p-value 0.192\n",
      "Feature CD : 18.593 with p-value 0.000\n",
      "Feature CF: 7.498 with p-value 0.006\n",
      "Feature CH: 0.041 with p-value 0.840\n",
      "Feature CL: 0.175 with p-value 0.676\n",
      "Feature CR: 33.582 with p-value 0.000\n",
      "Feature CS: 1.387 with p-value 0.239\n",
      "Feature CU: 4.285 with p-value 0.039\n",
      "Feature CW : 2.423 with p-value 0.120\n",
      "Feature DA: 26.873 with p-value 0.000\n",
      "Feature DE: 9.758 with p-value 0.002\n",
      "Feature DF: 2.551 with p-value 0.111\n",
      "Feature DH: 27.487 with p-value 0.000\n",
      "Feature DI: 44.868 with p-value 0.000\n",
      "Feature DL: 13.719 with p-value 0.000\n",
      "Feature DN: 0.044 with p-value 0.834\n",
      "Feature DU: 44.964 with p-value 0.000\n",
      "Feature DV: 0.147 with p-value 0.701\n",
      "Feature DY: 2.430 with p-value 0.120\n",
      "Feature EB: 4.800 with p-value 0.029\n",
      "Feature EE: 11.472 with p-value 0.001\n",
      "Feature EG: 0.373 with p-value 0.542\n",
      "Feature EH: 20.559 with p-value 0.000\n",
      "Feature EL: 3.014 with p-value 0.083\n",
      "Feature EP: 2.889 with p-value 0.090\n",
      "Feature EU: 0.973 with p-value 0.324\n",
      "Feature FC: 0.575 with p-value 0.449\n",
      "Feature FD : 10.755 with p-value 0.001\n",
      "Feature FE: 30.203 with p-value 0.000\n",
      "Feature FI: 5.521 with p-value 0.019\n",
      "Feature FL: 38.986 with p-value 0.000\n",
      "Feature FR: 6.738 with p-value 0.010\n",
      "Feature FS: 0.002 with p-value 0.963\n",
      "Feature GB: 4.302 with p-value 0.038\n",
      "Feature GE: 3.095 with p-value 0.079\n",
      "Feature GF: 10.278 with p-value 0.001\n",
      "Feature GH: 0.693 with p-value 0.406\n",
      "Feature GI: 3.658 with p-value 0.056\n",
      "Feature GL: 8.785 with p-value 0.003\n",
      "==============================\n",
      "After the SelectKBest = (617, 26)\n",
      "Drop-out Features = 30\n"
     ]
    }
   ],
   "source": [
    "fs = SelectKBest(score_func=f_classif, k=len(train.columns))\n",
    "X_selected = fs.fit_transform(train, test.values)\n",
    "print(f\"Before the SelectKBest = {train.shape}\")\n",
    "\n",
    "new_features = []\n",
    "drop_features = []\n",
    "\n",
    "for i in range(len(train.columns)):\n",
    "    print(f\"Feature {train.columns[i]}: {fs.scores_[i]:.3f} with p-value {fs.pvalues_[i]:.3f}\")\n",
    "    if fs.pvalues_[i] <= 0.01 and fs.scores_[i] >= 5:\n",
    "        new_features.append(train.columns[i])\n",
    "    else:\n",
    "        drop_features.append(train.columns[i])\n",
    "        \n",
    "X_selected_final = pd.DataFrame(X_selected)\n",
    "X_selected_final.columns = train.columns\n",
    "X_selected_final = X_selected_final[new_features]\n",
    "\n",
    "print(\"=\"*30)\n",
    "print(f\"After the SelectKBest = {X_selected_final.shape}\")\n",
    "print(f\"Drop-out Features = {len(drop_features)}\")"
   ]
  },
  {
   "cell_type": "code",
   "execution_count": 20,
   "id": "9c2e22cc",
   "metadata": {
    "execution": {
     "iopub.execute_input": "2023-06-29T15:02:53.109567Z",
     "iopub.status.busy": "2023-06-29T15:02:53.109316Z",
     "iopub.status.idle": "2023-06-29T15:02:53.116129Z",
     "shell.execute_reply": "2023-06-29T15:02:53.115320Z"
    },
    "papermill": {
     "duration": 0.022216,
     "end_time": "2023-06-29T15:02:53.118043",
     "exception": false,
     "start_time": "2023-06-29T15:02:53.095827",
     "status": "completed"
    },
    "tags": []
   },
   "outputs": [],
   "source": [
    "train = train.drop(drop_features, axis=1)\n",
    "df_train_2 = df_train_2.drop(drop_features, axis=1)\n",
    "df_test_2 = df_test_2.drop(drop_features, axis=1)"
   ]
  },
  {
   "cell_type": "markdown",
   "id": "64f48528",
   "metadata": {
    "papermill": {
     "duration": 0.013683,
     "end_time": "2023-06-29T15:02:53.144845",
     "exception": false,
     "start_time": "2023-06-29T15:02:53.131162",
     "status": "completed"
    },
    "tags": []
   },
   "source": [
    "## 3.5 SMOTE"
   ]
  },
  {
   "cell_type": "code",
   "execution_count": 21,
   "id": "c5116f4f",
   "metadata": {
    "execution": {
     "iopub.execute_input": "2023-06-29T15:02:53.172400Z",
     "iopub.status.busy": "2023-06-29T15:02:53.171619Z",
     "iopub.status.idle": "2023-06-29T15:02:53.179446Z",
     "shell.execute_reply": "2023-06-29T15:02:53.178204Z"
    },
    "papermill": {
     "duration": 0.023528,
     "end_time": "2023-06-29T15:02:53.181390",
     "exception": false,
     "start_time": "2023-06-29T15:02:53.157862",
     "status": "completed"
    },
    "tags": []
   },
   "outputs": [
    {
     "name": "stdout",
     "output_type": "stream",
     "text": [
      "Shape of train : (431, 26)\n",
      "Shape of test : (186, 26)\n",
      "==================================================\n",
      "Shape of df_train (incl. ID and Class): (617, 28)\n",
      "Shape of df_test (incl. ID): (5, 27)\n"
     ]
    }
   ],
   "source": [
    "X_train, X_test, y_train, y_test = train_test_split(train, test, test_size=0.3)\n",
    "\n",
    "print('Shape of train : {}'.format(X_train.shape))\n",
    "print('Shape of test : {}'.format(X_test.shape))\n",
    "print('='*50)\n",
    "print('Shape of df_train (incl. ID and Class): {}'.format(df_train_2.shape))\n",
    "print('Shape of df_test (incl. ID): {}'.format(df_test_2.shape))"
   ]
  },
  {
   "cell_type": "code",
   "execution_count": 22,
   "id": "29942d3b",
   "metadata": {
    "execution": {
     "iopub.execute_input": "2023-06-29T15:02:53.208621Z",
     "iopub.status.busy": "2023-06-29T15:02:53.207904Z",
     "iopub.status.idle": "2023-06-29T15:02:53.281457Z",
     "shell.execute_reply": "2023-06-29T15:02:53.280665Z"
    },
    "papermill": {
     "duration": 0.089146,
     "end_time": "2023-06-29T15:02:53.283364",
     "exception": false,
     "start_time": "2023-06-29T15:02:53.194218",
     "status": "completed"
    },
    "tags": []
   },
   "outputs": [
    {
     "name": "stdout",
     "output_type": "stream",
     "text": [
      "length of original data is  617\n",
      "Proportion of True data in original data is 17.63%\n",
      "Proportion of False data in original data is 82.37%\n",
      "length of oversampled data is  2000\n",
      "Proportion of True data in oversampled data is 50.00%\n",
      "Proportion of False data in oversampled data is 50.00%\n"
     ]
    }
   ],
   "source": [
    "smote = SMOTE(sampling_strategy={0: 1000, 1: 1000})\n",
    "\n",
    "X_smote, y_smote = smote.fit_resample(X_train, y_train)\n",
    "print(\"length of original data is \",len(df_train_2))\n",
    "print(\"Proportion of True data in original data is {:.2%}\".format(len(y_train[y_train==1])/len(y_train)))\n",
    "print(\"Proportion of False data in original data is {:.2%}\".format(len(y_train[y_train==0])/len(y_train)))\n",
    "print(\"length of oversampled data is \",len(X_smote))\n",
    "print(\"Proportion of True data in oversampled data is {:.2%}\".format(len(y_smote[y_smote ==1])/len(y_smote)))\n",
    "print(\"Proportion of False data in oversampled data is {:.2%}\".format(len(y_smote[y_smote ==0])/len(y_smote)))"
   ]
  },
  {
   "cell_type": "markdown",
   "id": "e41d04a1",
   "metadata": {
    "papermill": {
     "duration": 0.012786,
     "end_time": "2023-06-29T15:02:53.309856",
     "exception": false,
     "start_time": "2023-06-29T15:02:53.297070",
     "status": "completed"
    },
    "tags": []
   },
   "source": [
    "## 4. Modeling"
   ]
  },
  {
   "cell_type": "code",
   "execution_count": 23,
   "id": "d2e6eb3e",
   "metadata": {
    "execution": {
     "iopub.execute_input": "2023-06-29T15:02:53.337654Z",
     "iopub.status.busy": "2023-06-29T15:02:53.337393Z",
     "iopub.status.idle": "2023-06-29T15:02:53.341629Z",
     "shell.execute_reply": "2023-06-29T15:02:53.340690Z"
    },
    "papermill": {
     "duration": 0.0207,
     "end_time": "2023-06-29T15:02:53.343759",
     "exception": false,
     "start_time": "2023-06-29T15:02:53.323059",
     "status": "completed"
    },
    "tags": []
   },
   "outputs": [],
   "source": [
    "p_folds = 3\n",
    "p_iter = 1000\n",
    "p_estimators = 1000\n",
    "p_learning_rate = 0.01"
   ]
  },
  {
   "cell_type": "markdown",
   "id": "8ecffa62",
   "metadata": {
    "papermill": {
     "duration": 0.012748,
     "end_time": "2023-06-29T15:02:53.369632",
     "exception": false,
     "start_time": "2023-06-29T15:02:53.356884",
     "status": "completed"
    },
    "tags": []
   },
   "source": [
    "## 4.1 XGBoost"
   ]
  },
  {
   "cell_type": "code",
   "execution_count": 24,
   "id": "42394b6d",
   "metadata": {
    "execution": {
     "iopub.execute_input": "2023-06-29T15:02:53.397338Z",
     "iopub.status.busy": "2023-06-29T15:02:53.397067Z",
     "iopub.status.idle": "2023-06-29T15:02:53.402239Z",
     "shell.execute_reply": "2023-06-29T15:02:53.401351Z"
    },
    "papermill": {
     "duration": 0.021322,
     "end_time": "2023-06-29T15:02:53.404166",
     "exception": false,
     "start_time": "2023-06-29T15:02:53.382844",
     "status": "completed"
    },
    "tags": []
   },
   "outputs": [],
   "source": [
    "params = {\n",
    "        'max_depth': [5, 7, 10, 13],\n",
    "        'gamma': [0, 0.1, 0.2, 0.3],\n",
    "        'subsample': [0.6, 0.7, 0.8, 0.9, 1.0],\n",
    "        'colsample_bytree': [0.6, 0.7, 0.8, 0.9, 1.0],\n",
    "        'reg_alpha': [0, 0.1, 0.5, 1.0],\n",
    "        'reg_lambda': [0, 0.1, 0.5, 1.0],\n",
    "        'min_child_weight': [1, 3, 5, 7],\n",
    "        'scale_pos_weight': [1, 2, 5, 10]    \n",
    "        }"
   ]
  },
  {
   "cell_type": "code",
   "execution_count": 25,
   "id": "469b76df",
   "metadata": {
    "execution": {
     "iopub.execute_input": "2023-06-29T15:02:53.431471Z",
     "iopub.status.busy": "2023-06-29T15:02:53.431207Z",
     "iopub.status.idle": "2023-06-29T15:02:53.435914Z",
     "shell.execute_reply": "2023-06-29T15:02:53.434882Z"
    },
    "papermill": {
     "duration": 0.020323,
     "end_time": "2023-06-29T15:02:53.437800",
     "exception": false,
     "start_time": "2023-06-29T15:02:53.417477",
     "status": "completed"
    },
    "tags": []
   },
   "outputs": [],
   "source": [
    "xg_model = XGBClassifier(\n",
    "    learning_rate=p_learning_rate, \n",
    "    n_estimators=p_estimators, \n",
    "    objective=\"binary:logistic\", \n",
    "    #tree_method=\"gpu_hist\", \n",
    "    #gpu_id=0, \n",
    "    #verbosity=2,\n",
    "    subsample=0.9,\n",
    "    scale_pos_weight=10,\n",
    "    reg_lambda=0.5,\n",
    "    reg_alpha=0\n",
    ")"
   ]
  },
  {
   "cell_type": "code",
   "execution_count": 26,
   "id": "0b316880",
   "metadata": {
    "execution": {
     "iopub.execute_input": "2023-06-29T15:02:53.465623Z",
     "iopub.status.busy": "2023-06-29T15:02:53.464891Z",
     "iopub.status.idle": "2023-06-29T15:03:02.002215Z",
     "shell.execute_reply": "2023-06-29T15:03:02.001338Z"
    },
    "papermill": {
     "duration": 8.554108,
     "end_time": "2023-06-29T15:03:02.004746",
     "exception": false,
     "start_time": "2023-06-29T15:02:53.450638",
     "status": "completed"
    },
    "tags": []
   },
   "outputs": [
    {
     "data": {
      "text/html": [
       "<style>#sk-container-id-1 {color: black;background-color: white;}#sk-container-id-1 pre{padding: 0;}#sk-container-id-1 div.sk-toggleable {background-color: white;}#sk-container-id-1 label.sk-toggleable__label {cursor: pointer;display: block;width: 100%;margin-bottom: 0;padding: 0.3em;box-sizing: border-box;text-align: center;}#sk-container-id-1 label.sk-toggleable__label-arrow:before {content: \"▸\";float: left;margin-right: 0.25em;color: #696969;}#sk-container-id-1 label.sk-toggleable__label-arrow:hover:before {color: black;}#sk-container-id-1 div.sk-estimator:hover label.sk-toggleable__label-arrow:before {color: black;}#sk-container-id-1 div.sk-toggleable__content {max-height: 0;max-width: 0;overflow: hidden;text-align: left;background-color: #f0f8ff;}#sk-container-id-1 div.sk-toggleable__content pre {margin: 0.2em;color: black;border-radius: 0.25em;background-color: #f0f8ff;}#sk-container-id-1 input.sk-toggleable__control:checked~div.sk-toggleable__content {max-height: 200px;max-width: 100%;overflow: auto;}#sk-container-id-1 input.sk-toggleable__control:checked~label.sk-toggleable__label-arrow:before {content: \"▾\";}#sk-container-id-1 div.sk-estimator input.sk-toggleable__control:checked~label.sk-toggleable__label {background-color: #d4ebff;}#sk-container-id-1 div.sk-label input.sk-toggleable__control:checked~label.sk-toggleable__label {background-color: #d4ebff;}#sk-container-id-1 input.sk-hidden--visually {border: 0;clip: rect(1px 1px 1px 1px);clip: rect(1px, 1px, 1px, 1px);height: 1px;margin: -1px;overflow: hidden;padding: 0;position: absolute;width: 1px;}#sk-container-id-1 div.sk-estimator {font-family: monospace;background-color: #f0f8ff;border: 1px dotted black;border-radius: 0.25em;box-sizing: border-box;margin-bottom: 0.5em;}#sk-container-id-1 div.sk-estimator:hover {background-color: #d4ebff;}#sk-container-id-1 div.sk-parallel-item::after {content: \"\";width: 100%;border-bottom: 1px solid gray;flex-grow: 1;}#sk-container-id-1 div.sk-label:hover label.sk-toggleable__label {background-color: #d4ebff;}#sk-container-id-1 div.sk-serial::before {content: \"\";position: absolute;border-left: 1px solid gray;box-sizing: border-box;top: 0;bottom: 0;left: 50%;z-index: 0;}#sk-container-id-1 div.sk-serial {display: flex;flex-direction: column;align-items: center;background-color: white;padding-right: 0.2em;padding-left: 0.2em;position: relative;}#sk-container-id-1 div.sk-item {position: relative;z-index: 1;}#sk-container-id-1 div.sk-parallel {display: flex;align-items: stretch;justify-content: center;background-color: white;position: relative;}#sk-container-id-1 div.sk-item::before, #sk-container-id-1 div.sk-parallel-item::before {content: \"\";position: absolute;border-left: 1px solid gray;box-sizing: border-box;top: 0;bottom: 0;left: 50%;z-index: -1;}#sk-container-id-1 div.sk-parallel-item {display: flex;flex-direction: column;z-index: 1;position: relative;background-color: white;}#sk-container-id-1 div.sk-parallel-item:first-child::after {align-self: flex-end;width: 50%;}#sk-container-id-1 div.sk-parallel-item:last-child::after {align-self: flex-start;width: 50%;}#sk-container-id-1 div.sk-parallel-item:only-child::after {width: 0;}#sk-container-id-1 div.sk-dashed-wrapped {border: 1px dashed gray;margin: 0 0.4em 0.5em 0.4em;box-sizing: border-box;padding-bottom: 0.4em;background-color: white;}#sk-container-id-1 div.sk-label label {font-family: monospace;font-weight: bold;display: inline-block;line-height: 1.2em;}#sk-container-id-1 div.sk-label-container {text-align: center;}#sk-container-id-1 div.sk-container {/* jupyter's `normalize.less` sets `[hidden] { display: none; }` but bootstrap.min.css set `[hidden] { display: none !important; }` so we also need the `!important` here to be able to override the default hidden behavior on the sphinx rendered scikit-learn.org. See: https://github.com/scikit-learn/scikit-learn/issues/21755 */display: inline-block !important;position: relative;}#sk-container-id-1 div.sk-text-repr-fallback {display: none;}</style><div id=\"sk-container-id-1\" class=\"sk-top-container\"><div class=\"sk-text-repr-fallback\"><pre>XGBClassifier(base_score=None, booster=None, callbacks=None,\n",
       "              colsample_bylevel=None, colsample_bynode=None,\n",
       "              colsample_bytree=None, early_stopping_rounds=None,\n",
       "              enable_categorical=False, eval_metric=None, feature_types=None,\n",
       "              gamma=None, gpu_id=None, grow_policy=None, importance_type=None,\n",
       "              interaction_constraints=None, learning_rate=0.01, max_bin=None,\n",
       "              max_cat_threshold=None, max_cat_to_onehot=None,\n",
       "              max_delta_step=None, max_depth=None, max_leaves=None,\n",
       "              min_child_weight=None, missing=nan, monotone_constraints=None,\n",
       "              n_estimators=1000, n_jobs=None, num_parallel_tree=None,\n",
       "              predictor=None, random_state=None, ...)</pre><b>In a Jupyter environment, please rerun this cell to show the HTML representation or trust the notebook. <br />On GitHub, the HTML representation is unable to render, please try loading this page with nbviewer.org.</b></div><div class=\"sk-container\" hidden><div class=\"sk-item\"><div class=\"sk-estimator sk-toggleable\"><input class=\"sk-toggleable__control sk-hidden--visually\" id=\"sk-estimator-id-1\" type=\"checkbox\" checked><label for=\"sk-estimator-id-1\" class=\"sk-toggleable__label sk-toggleable__label-arrow\">XGBClassifier</label><div class=\"sk-toggleable__content\"><pre>XGBClassifier(base_score=None, booster=None, callbacks=None,\n",
       "              colsample_bylevel=None, colsample_bynode=None,\n",
       "              colsample_bytree=None, early_stopping_rounds=None,\n",
       "              enable_categorical=False, eval_metric=None, feature_types=None,\n",
       "              gamma=None, gpu_id=None, grow_policy=None, importance_type=None,\n",
       "              interaction_constraints=None, learning_rate=0.01, max_bin=None,\n",
       "              max_cat_threshold=None, max_cat_to_onehot=None,\n",
       "              max_delta_step=None, max_depth=None, max_leaves=None,\n",
       "              min_child_weight=None, missing=nan, monotone_constraints=None,\n",
       "              n_estimators=1000, n_jobs=None, num_parallel_tree=None,\n",
       "              predictor=None, random_state=None, ...)</pre></div></div></div></div></div>"
      ],
      "text/plain": [
       "XGBClassifier(base_score=None, booster=None, callbacks=None,\n",
       "              colsample_bylevel=None, colsample_bynode=None,\n",
       "              colsample_bytree=None, early_stopping_rounds=None,\n",
       "              enable_categorical=False, eval_metric=None, feature_types=None,\n",
       "              gamma=None, gpu_id=None, grow_policy=None, importance_type=None,\n",
       "              interaction_constraints=None, learning_rate=0.01, max_bin=None,\n",
       "              max_cat_threshold=None, max_cat_to_onehot=None,\n",
       "              max_delta_step=None, max_depth=None, max_leaves=None,\n",
       "              min_child_weight=None, missing=nan, monotone_constraints=None,\n",
       "              n_estimators=1000, n_jobs=None, num_parallel_tree=None,\n",
       "              predictor=None, random_state=None, ...)"
      ]
     },
     "execution_count": 26,
     "metadata": {},
     "output_type": "execute_result"
    }
   ],
   "source": [
    "# skf = StratifiedKFold(n_splits=p_folds, shuffle=True)\n",
    "# {'subsample': 0.9, 'scale_pos_weight': 10, 'reg_lambda': 0.5, 'reg_alpha': 0, 'min_child_weight': 1, 'max_depth': 13, 'gamma': 0.1, 'colsample_bytree': 0.6}\n",
    "# xg_model = RandomizedSearchCV(xgb, param_distributions=params, n_iter=p_iter, scoring=\"roc_auc\", n_jobs=-1, cv=skf.split(X_smote, y_smote), verbose=-1)\n",
    "\n",
    "xg_model.fit(X_smote, y_smote)"
   ]
  },
  {
   "cell_type": "code",
   "execution_count": 27,
   "id": "17a0aecc",
   "metadata": {
    "execution": {
     "iopub.execute_input": "2023-06-29T15:03:02.033740Z",
     "iopub.status.busy": "2023-06-29T15:03:02.032939Z",
     "iopub.status.idle": "2023-06-29T15:03:02.037238Z",
     "shell.execute_reply": "2023-06-29T15:03:02.036228Z"
    },
    "papermill": {
     "duration": 0.020765,
     "end_time": "2023-06-29T15:03:02.039358",
     "exception": false,
     "start_time": "2023-06-29T15:03:02.018593",
     "status": "completed"
    },
    "tags": []
   },
   "outputs": [],
   "source": [
    "#print(xg_model.best_estimator_)\n",
    "#print(xg_model.best_params_)"
   ]
  },
  {
   "cell_type": "markdown",
   "id": "e6328df4",
   "metadata": {
    "papermill": {
     "duration": 0.015656,
     "end_time": "2023-06-29T15:03:02.068427",
     "exception": false,
     "start_time": "2023-06-29T15:03:02.052771",
     "status": "completed"
    },
    "tags": []
   },
   "source": [
    "## 4.3 Prediction and Submission"
   ]
  },
  {
   "cell_type": "code",
   "execution_count": 28,
   "id": "d973dfd8",
   "metadata": {
    "execution": {
     "iopub.execute_input": "2023-06-29T15:03:02.096431Z",
     "iopub.status.busy": "2023-06-29T15:03:02.096148Z",
     "iopub.status.idle": "2023-06-29T15:03:02.110066Z",
     "shell.execute_reply": "2023-06-29T15:03:02.109251Z"
    },
    "papermill": {
     "duration": 0.03002,
     "end_time": "2023-06-29T15:03:02.111970",
     "exception": false,
     "start_time": "2023-06-29T15:03:02.081950",
     "status": "completed"
    },
    "tags": []
   },
   "outputs": [
    {
     "data": {
      "text/plain": [
       "array([[0.8222185, 0.1777815],\n",
       "       [0.8222185, 0.1777815],\n",
       "       [0.8222185, 0.1777815],\n",
       "       [0.8222185, 0.1777815],\n",
       "       [0.8222185, 0.1777815]], dtype=float32)"
      ]
     },
     "execution_count": 28,
     "metadata": {},
     "output_type": "execute_result"
    }
   ],
   "source": [
    "xg_pred = xg_model.predict_proba(df_test_2.drop(['Id'], axis=1))\n",
    "xg_pred"
   ]
  },
  {
   "cell_type": "code",
   "execution_count": 29,
   "id": "c739f591",
   "metadata": {
    "execution": {
     "iopub.execute_input": "2023-06-29T15:03:02.140558Z",
     "iopub.status.busy": "2023-06-29T15:03:02.140207Z",
     "iopub.status.idle": "2023-06-29T15:03:02.154924Z",
     "shell.execute_reply": "2023-06-29T15:03:02.154036Z"
    },
    "papermill": {
     "duration": 0.030829,
     "end_time": "2023-06-29T15:03:02.156922",
     "exception": false,
     "start_time": "2023-06-29T15:03:02.126093",
     "status": "completed"
    },
    "tags": []
   },
   "outputs": [
    {
     "data": {
      "text/html": [
       "<div>\n",
       "<style scoped>\n",
       "    .dataframe tbody tr th:only-of-type {\n",
       "        vertical-align: middle;\n",
       "    }\n",
       "\n",
       "    .dataframe tbody tr th {\n",
       "        vertical-align: top;\n",
       "    }\n",
       "\n",
       "    .dataframe thead th {\n",
       "        text-align: right;\n",
       "    }\n",
       "</style>\n",
       "<table border=\"1\" class=\"dataframe\">\n",
       "  <thead>\n",
       "    <tr style=\"text-align: right;\">\n",
       "      <th></th>\n",
       "      <th>Id</th>\n",
       "      <th>class_0</th>\n",
       "      <th>class_1</th>\n",
       "    </tr>\n",
       "  </thead>\n",
       "  <tbody>\n",
       "    <tr>\n",
       "      <th>0</th>\n",
       "      <td>00eed32682bb</td>\n",
       "      <td>0.822218</td>\n",
       "      <td>0.177782</td>\n",
       "    </tr>\n",
       "    <tr>\n",
       "      <th>1</th>\n",
       "      <td>010ebe33f668</td>\n",
       "      <td>0.822218</td>\n",
       "      <td>0.177782</td>\n",
       "    </tr>\n",
       "    <tr>\n",
       "      <th>2</th>\n",
       "      <td>02fa521e1838</td>\n",
       "      <td>0.822218</td>\n",
       "      <td>0.177782</td>\n",
       "    </tr>\n",
       "    <tr>\n",
       "      <th>3</th>\n",
       "      <td>040e15f562a2</td>\n",
       "      <td>0.822218</td>\n",
       "      <td>0.177782</td>\n",
       "    </tr>\n",
       "    <tr>\n",
       "      <th>4</th>\n",
       "      <td>046e85c7cc7f</td>\n",
       "      <td>0.822218</td>\n",
       "      <td>0.177782</td>\n",
       "    </tr>\n",
       "  </tbody>\n",
       "</table>\n",
       "</div>"
      ],
      "text/plain": [
       "             Id   class_0   class_1\n",
       "0  00eed32682bb  0.822218  0.177782\n",
       "1  010ebe33f668  0.822218  0.177782\n",
       "2  02fa521e1838  0.822218  0.177782\n",
       "3  040e15f562a2  0.822218  0.177782\n",
       "4  046e85c7cc7f  0.822218  0.177782"
      ]
     },
     "execution_count": 29,
     "metadata": {},
     "output_type": "execute_result"
    }
   ],
   "source": [
    "submission = df_test_2[['Id']].copy()\n",
    "submission['class_0'] = xg_pred[:,0]\n",
    "submission['class_1'] = xg_pred[:,1]\n",
    "submission.to_csv('submission.csv',index=False)\n",
    "submission.head()"
   ]
  }
 ],
 "metadata": {
  "kernelspec": {
   "display_name": "Python 3",
   "language": "python",
   "name": "python3"
  },
  "language_info": {
   "codemirror_mode": {
    "name": "ipython",
    "version": 3
   },
   "file_extension": ".py",
   "mimetype": "text/x-python",
   "name": "python",
   "nbconvert_exporter": "python",
   "pygments_lexer": "ipython3",
   "version": "3.10.10"
  },
  "papermill": {
   "default_parameters": {},
   "duration": 24.593786,
   "end_time": "2023-06-29T15:03:02.889954",
   "environment_variables": {},
   "exception": null,
   "input_path": "__notebook__.ipynb",
   "output_path": "__notebook__.ipynb",
   "parameters": {},
   "start_time": "2023-06-29T15:02:38.296168",
   "version": "2.4.0"
  }
 },
 "nbformat": 4,
 "nbformat_minor": 5
}
